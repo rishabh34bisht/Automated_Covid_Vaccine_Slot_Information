{
 "cells": [
  {
   "cell_type": "code",
   "execution_count": 1,
   "metadata": {},
   "outputs": [],
   "source": [
    "import email\n",
    "import smtplib\n",
    "from datetime import datetime"
   ]
  },
  {
   "cell_type": "code",
   "execution_count": 2,
   "metadata": {},
   "outputs": [],
   "source": [
    "import requests"
   ]
  },
  {
   "cell_type": "code",
   "execution_count": 3,
   "metadata": {},
   "outputs": [],
   "source": [
    "def create_session_info(center, session):\n",
    "    return {\"name\": center[\"name\"],\n",
    "            \"date\": session[\"date\"],\n",
    "            \"capacity\": session[\"available_capacity\"],\n",
    "            \"age_limit\": session[\"min_age_limit\"],\n",
    "            \"fees\": center[\"fee_type\"],\n",
    "            \"Vaccine\": session[\"vaccine\"]}\n",
    "\n",
    "def get_sessions(data):\n",
    "    for center in data[\"centers\"]:\n",
    "        for session in center[\"sessions\"]:\n",
    "            yield create_session_info(center, session)\n",
    "\n",
    "def is_available(session):\n",
    "    return session[\"capacity\"] > 0\n",
    "\n",
    "def is_eighteen_plus(session):\n",
    "    return session[\"age_limit\"] == 18\n",
    "\n",
    "def is_free(session):\n",
    "    if session[\"fees\"] == \"Free\":\n",
    "        return True\n",
    "\n",
    "def is_covidshield(session):\n",
    "    if session[\"Vaccine\"] == \"COVISHIELD\" or \"COVAXIN\":\n",
    "        return True"
   ]
  },
  {
   "cell_type": "code",
   "execution_count": 7,
   "metadata": {},
   "outputs": [
    {
     "name": "stdout",
     "output_type": "stream",
     "text": [
      "[{'name': 'MCDPS WAZIRPUR VILLAGE S1', 'date': '12-05-2021', 'capacity': 1, 'age_limit': 18, 'fees': 'Free', 'Vaccine': 'COVISHIELD'}]\n"
     ]
    }
   ],
   "source": [
    "def get_for_seven_days(start_date):\n",
    "    url = \"https://cdn-api.co-vin.in/api/v2/appointment/sessions/public/calendarByDistrict\"\n",
    "    params = {\"district_id\": 143, \"date\": start_date.strftime(\"%d-%m-%Y\")}\n",
    "    headers = {\"User-Agent\": \"Mozilla/5.0 (Windows NT 10.0; Win64; x64; rv:89.0) Gecko/20100101 Firefox/89.0\"}\n",
    "    resp = requests.get(url, params=params, headers=headers)\n",
    "    data = resp.json()\n",
    "    return [session for session in get_sessions(data) if is_eighteen_plus(session) and is_available(session) and is_free(session) and is_covidshield(session)]\n",
    "\n",
    "def create_output(session_info):\n",
    "    return f\"{session_info['date']} - {session_info['name']} ({session_info['capacity']})\"\n",
    "\n",
    "print(get_for_seven_days(datetime.today()))\n",
    "content = \"\\n\".join([create_output(session_info) for session_info in get_for_seven_days(datetime.today())])\n",
    "username = \"rishabh04bisht@gmail.com\"\n",
    "usernameTo = ['rishabh34bisht@gmail.com','rishabhusbisht@gmail.com']\n",
    "password = \"Gmail123\"\n",
    "\n",
    "if not content:\n",
    "    content = \"Currently there are no slots available\"\n",
    "    print(\"Currently there are no slots available\")\n",
    "\n",
    "email_msg = email.message.EmailMessage()\n",
    "email_msg[\"Subject\"] = \"Vaccination Slot Open\"\n",
    "email_msg[\"From\"] = username\n",
    "email_msg[\"To\"] = \", \".join(usernameTo)\n",
    "email_msg.set_content(content)\n",
    "\n",
    "with smtplib.SMTP(host='smtp.gmail.com', port='587') as server:\n",
    "    server.starttls()\n",
    "    server.login(username, password)\n",
    "    server.send_message(email_msg, username, usernameTo)\n"
   ]
  },
  {
   "cell_type": "code",
   "execution_count": null,
   "metadata": {},
   "outputs": [],
   "source": []
  }
 ],
 "metadata": {
  "kernelspec": {
   "display_name": "Python 3",
   "language": "python",
   "name": "python3"
  },
  "language_info": {
   "codemirror_mode": {
    "name": "ipython",
    "version": 3
   },
   "file_extension": ".py",
   "mimetype": "text/x-python",
   "name": "python",
   "nbconvert_exporter": "python",
   "pygments_lexer": "ipython3",
   "version": "3.8.3"
  }
 },
 "nbformat": 4,
 "nbformat_minor": 4
}
